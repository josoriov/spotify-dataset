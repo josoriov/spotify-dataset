{
 "metadata": {
  "language_info": {
   "codemirror_mode": {
    "name": "ipython",
    "version": 3
   },
   "file_extension": ".py",
   "mimetype": "text/x-python",
   "name": "python",
   "nbconvert_exporter": "python",
   "pygments_lexer": "ipython3",
   "version": "3.9.1-final"
  },
  "orig_nbformat": 2,
  "kernelspec": {
   "name": "python3",
   "display_name": "Python 3.9.1 64-bit ('spotify')",
   "metadata": {
    "interpreter": {
     "hash": "b6307e8cf72c1c08738f1dd494366575f99965196cbc9fb2728f5d769d0f9387"
    }
   }
  }
 },
 "nbformat": 4,
 "nbformat_minor": 2,
 "cells": [
  {
   "cell_type": "code",
   "execution_count": 1,
   "metadata": {},
   "outputs": [],
   "source": [
    "import os\n",
    "\n",
    "os.chdir('../../')"
   ]
  },
  {
   "cell_type": "code",
   "execution_count": 2,
   "metadata": {},
   "outputs": [],
   "source": [
    "import numpy as np\n",
    "import pandas as pd\n",
    "import matplotlib.pyplot as plt"
   ]
  },
  {
   "cell_type": "code",
   "execution_count": 3,
   "metadata": {},
   "outputs": [],
   "source": [
    "data = pd.read_csv('data/data.csv')"
   ]
  },
  {
   "cell_type": "code",
   "execution_count": 4,
   "metadata": {},
   "outputs": [
    {
     "output_type": "execute_result",
     "data": {
      "text/plain": [
       "   valence  year  acousticness  \\\n",
       "0   0.0594  1921         0.982   \n",
       "1   0.9630  1921         0.732   \n",
       "2   0.0394  1921         0.961   \n",
       "3   0.1650  1921         0.967   \n",
       "4   0.2530  1921         0.957   \n",
       "\n",
       "                                             artists  danceability  \\\n",
       "0  ['Sergei Rachmaninoff', 'James Levine', 'Berli...         0.279   \n",
       "1                                     ['Dennis Day']         0.819   \n",
       "2  ['KHP Kridhamardawa Karaton Ngayogyakarta Hadi...         0.328   \n",
       "3                                   ['Frank Parker']         0.275   \n",
       "4                                     ['Phil Regan']         0.418   \n",
       "\n",
       "   duration_ms  energy  explicit                      id  instrumentalness  \\\n",
       "0       831667   0.211         0  4BJqT0PrAfrxzMOxytFOIz          0.878000   \n",
       "1       180533   0.341         0  7xPhfUan2yNtyFG0cUWkt8          0.000000   \n",
       "2       500062   0.166         0  1o6I8BglA6ylDMrIELygv1          0.913000   \n",
       "3       210000   0.309         0  3ftBPsC5vPBKxYSee08FDH          0.000028   \n",
       "4       166693   0.193         0  4d6HGyGT8e121BsdKmw9v6          0.000002   \n",
       "\n",
       "   key  liveness  loudness  mode  \\\n",
       "0   10     0.665   -20.096     1   \n",
       "1    7     0.160   -12.441     1   \n",
       "2    3     0.101   -14.850     1   \n",
       "3    5     0.381    -9.316     1   \n",
       "4    3     0.229   -10.096     1   \n",
       "\n",
       "                                                name  popularity release_date  \\\n",
       "0  Piano Concerto No. 3 in D Minor, Op. 30: III. ...           4         1921   \n",
       "1                            Clancy Lowered the Boom           5         1921   \n",
       "2                                          Gati Bali           5         1921   \n",
       "3                                          Danny Boy           3         1921   \n",
       "4                        When Irish Eyes Are Smiling           2         1921   \n",
       "\n",
       "   speechiness    tempo  \n",
       "0       0.0366   80.954  \n",
       "1       0.4150   60.936  \n",
       "2       0.0339  110.339  \n",
       "3       0.0354  100.109  \n",
       "4       0.0380  101.665  "
      ],
      "text/html": "<div>\n<style scoped>\n    .dataframe tbody tr th:only-of-type {\n        vertical-align: middle;\n    }\n\n    .dataframe tbody tr th {\n        vertical-align: top;\n    }\n\n    .dataframe thead th {\n        text-align: right;\n    }\n</style>\n<table border=\"1\" class=\"dataframe\">\n  <thead>\n    <tr style=\"text-align: right;\">\n      <th></th>\n      <th>valence</th>\n      <th>year</th>\n      <th>acousticness</th>\n      <th>artists</th>\n      <th>danceability</th>\n      <th>duration_ms</th>\n      <th>energy</th>\n      <th>explicit</th>\n      <th>id</th>\n      <th>instrumentalness</th>\n      <th>key</th>\n      <th>liveness</th>\n      <th>loudness</th>\n      <th>mode</th>\n      <th>name</th>\n      <th>popularity</th>\n      <th>release_date</th>\n      <th>speechiness</th>\n      <th>tempo</th>\n    </tr>\n  </thead>\n  <tbody>\n    <tr>\n      <th>0</th>\n      <td>0.0594</td>\n      <td>1921</td>\n      <td>0.982</td>\n      <td>['Sergei Rachmaninoff', 'James Levine', 'Berli...</td>\n      <td>0.279</td>\n      <td>831667</td>\n      <td>0.211</td>\n      <td>0</td>\n      <td>4BJqT0PrAfrxzMOxytFOIz</td>\n      <td>0.878000</td>\n      <td>10</td>\n      <td>0.665</td>\n      <td>-20.096</td>\n      <td>1</td>\n      <td>Piano Concerto No. 3 in D Minor, Op. 30: III. ...</td>\n      <td>4</td>\n      <td>1921</td>\n      <td>0.0366</td>\n      <td>80.954</td>\n    </tr>\n    <tr>\n      <th>1</th>\n      <td>0.9630</td>\n      <td>1921</td>\n      <td>0.732</td>\n      <td>['Dennis Day']</td>\n      <td>0.819</td>\n      <td>180533</td>\n      <td>0.341</td>\n      <td>0</td>\n      <td>7xPhfUan2yNtyFG0cUWkt8</td>\n      <td>0.000000</td>\n      <td>7</td>\n      <td>0.160</td>\n      <td>-12.441</td>\n      <td>1</td>\n      <td>Clancy Lowered the Boom</td>\n      <td>5</td>\n      <td>1921</td>\n      <td>0.4150</td>\n      <td>60.936</td>\n    </tr>\n    <tr>\n      <th>2</th>\n      <td>0.0394</td>\n      <td>1921</td>\n      <td>0.961</td>\n      <td>['KHP Kridhamardawa Karaton Ngayogyakarta Hadi...</td>\n      <td>0.328</td>\n      <td>500062</td>\n      <td>0.166</td>\n      <td>0</td>\n      <td>1o6I8BglA6ylDMrIELygv1</td>\n      <td>0.913000</td>\n      <td>3</td>\n      <td>0.101</td>\n      <td>-14.850</td>\n      <td>1</td>\n      <td>Gati Bali</td>\n      <td>5</td>\n      <td>1921</td>\n      <td>0.0339</td>\n      <td>110.339</td>\n    </tr>\n    <tr>\n      <th>3</th>\n      <td>0.1650</td>\n      <td>1921</td>\n      <td>0.967</td>\n      <td>['Frank Parker']</td>\n      <td>0.275</td>\n      <td>210000</td>\n      <td>0.309</td>\n      <td>0</td>\n      <td>3ftBPsC5vPBKxYSee08FDH</td>\n      <td>0.000028</td>\n      <td>5</td>\n      <td>0.381</td>\n      <td>-9.316</td>\n      <td>1</td>\n      <td>Danny Boy</td>\n      <td>3</td>\n      <td>1921</td>\n      <td>0.0354</td>\n      <td>100.109</td>\n    </tr>\n    <tr>\n      <th>4</th>\n      <td>0.2530</td>\n      <td>1921</td>\n      <td>0.957</td>\n      <td>['Phil Regan']</td>\n      <td>0.418</td>\n      <td>166693</td>\n      <td>0.193</td>\n      <td>0</td>\n      <td>4d6HGyGT8e121BsdKmw9v6</td>\n      <td>0.000002</td>\n      <td>3</td>\n      <td>0.229</td>\n      <td>-10.096</td>\n      <td>1</td>\n      <td>When Irish Eyes Are Smiling</td>\n      <td>2</td>\n      <td>1921</td>\n      <td>0.0380</td>\n      <td>101.665</td>\n    </tr>\n  </tbody>\n</table>\n</div>"
     },
     "metadata": {},
     "execution_count": 4
    }
   ],
   "source": [
    "data.head()"
   ]
  },
  {
   "cell_type": "code",
   "execution_count": 5,
   "metadata": {},
   "outputs": [
    {
     "output_type": "execute_result",
     "data": {
      "text/plain": [
       "Index(['valence', 'year', 'acousticness', 'artists', 'danceability',\n",
       "       'duration_ms', 'energy', 'explicit', 'id', 'instrumentalness', 'key',\n",
       "       'liveness', 'loudness', 'mode', 'name', 'popularity', 'release_date',\n",
       "       'speechiness', 'tempo'],\n",
       "      dtype='object')"
      ]
     },
     "metadata": {},
     "execution_count": 5
    }
   ],
   "source": [
    "data.columns"
   ]
  },
  {
   "cell_type": "code",
   "execution_count": 6,
   "metadata": {},
   "outputs": [],
   "source": [
    "primary = [\n",
    "    'id'\n",
    "]\n",
    "\n",
    "numerical_cols = [\n",
    "    'acousticness','danceability','energy','duration_ms',\n",
    "    'instrumentalness','valence','popularity','tempo',\n",
    "    'liveness','loudness','speechiness','year'\n",
    "]\n",
    "\n",
    "dummy_cols = [\n",
    "    'explicit','mode'\n",
    "]\n",
    "\n",
    "categorical_cols = [\n",
    "    'key','artists','release_date','name'\n",
    "]"
   ]
  },
  {
   "cell_type": "code",
   "execution_count": 30,
   "metadata": {},
   "outputs": [],
   "source": [
    "predictors = [\n",
    "    'acousticness','danceability','energy','instrumentalness',\n",
    "    'valence','tempo','liveness','loudness','speechiness'\n",
    "]"
   ]
  },
  {
   "cell_type": "code",
   "execution_count": 7,
   "metadata": {},
   "outputs": [
    {
     "output_type": "execute_result",
     "data": {
      "text/plain": [
       "        acousticness   danceability         energy   duration_ms  \\\n",
       "count  170653.000000  170653.000000  170653.000000  1.706530e+05   \n",
       "mean        0.502115       0.537396       0.482389  2.309483e+05   \n",
       "std         0.376032       0.176138       0.267646  1.261184e+05   \n",
       "min         0.000000       0.000000       0.000000  5.108000e+03   \n",
       "25%         0.102000       0.415000       0.255000  1.698270e+05   \n",
       "50%         0.516000       0.548000       0.471000  2.074670e+05   \n",
       "75%         0.893000       0.668000       0.703000  2.624000e+05   \n",
       "max         0.996000       0.988000       1.000000  5.403500e+06   \n",
       "\n",
       "       instrumentalness        valence     popularity          tempo  \\\n",
       "count     170653.000000  170653.000000  170653.000000  170653.000000   \n",
       "mean           0.167010       0.528587      31.431794     116.861590   \n",
       "std            0.313475       0.263171      21.826615      30.708533   \n",
       "min            0.000000       0.000000       0.000000       0.000000   \n",
       "25%            0.000000       0.317000      11.000000      93.421000   \n",
       "50%            0.000216       0.540000      33.000000     114.729000   \n",
       "75%            0.102000       0.747000      48.000000     135.537000   \n",
       "max            1.000000       1.000000     100.000000     243.507000   \n",
       "\n",
       "            liveness       loudness    speechiness           year  \n",
       "count  170653.000000  170653.000000  170653.000000  170653.000000  \n",
       "mean        0.205839     -11.467990       0.098393    1976.787241  \n",
       "std         0.174805       5.697943       0.162740      25.917853  \n",
       "min         0.000000     -60.000000       0.000000    1921.000000  \n",
       "25%         0.098800     -14.615000       0.034900    1956.000000  \n",
       "50%         0.136000     -10.580000       0.045000    1977.000000  \n",
       "75%         0.261000      -7.183000       0.075600    1999.000000  \n",
       "max         1.000000       3.855000       0.970000    2020.000000  "
      ],
      "text/html": "<div>\n<style scoped>\n    .dataframe tbody tr th:only-of-type {\n        vertical-align: middle;\n    }\n\n    .dataframe tbody tr th {\n        vertical-align: top;\n    }\n\n    .dataframe thead th {\n        text-align: right;\n    }\n</style>\n<table border=\"1\" class=\"dataframe\">\n  <thead>\n    <tr style=\"text-align: right;\">\n      <th></th>\n      <th>acousticness</th>\n      <th>danceability</th>\n      <th>energy</th>\n      <th>duration_ms</th>\n      <th>instrumentalness</th>\n      <th>valence</th>\n      <th>popularity</th>\n      <th>tempo</th>\n      <th>liveness</th>\n      <th>loudness</th>\n      <th>speechiness</th>\n      <th>year</th>\n    </tr>\n  </thead>\n  <tbody>\n    <tr>\n      <th>count</th>\n      <td>170653.000000</td>\n      <td>170653.000000</td>\n      <td>170653.000000</td>\n      <td>1.706530e+05</td>\n      <td>170653.000000</td>\n      <td>170653.000000</td>\n      <td>170653.000000</td>\n      <td>170653.000000</td>\n      <td>170653.000000</td>\n      <td>170653.000000</td>\n      <td>170653.000000</td>\n      <td>170653.000000</td>\n    </tr>\n    <tr>\n      <th>mean</th>\n      <td>0.502115</td>\n      <td>0.537396</td>\n      <td>0.482389</td>\n      <td>2.309483e+05</td>\n      <td>0.167010</td>\n      <td>0.528587</td>\n      <td>31.431794</td>\n      <td>116.861590</td>\n      <td>0.205839</td>\n      <td>-11.467990</td>\n      <td>0.098393</td>\n      <td>1976.787241</td>\n    </tr>\n    <tr>\n      <th>std</th>\n      <td>0.376032</td>\n      <td>0.176138</td>\n      <td>0.267646</td>\n      <td>1.261184e+05</td>\n      <td>0.313475</td>\n      <td>0.263171</td>\n      <td>21.826615</td>\n      <td>30.708533</td>\n      <td>0.174805</td>\n      <td>5.697943</td>\n      <td>0.162740</td>\n      <td>25.917853</td>\n    </tr>\n    <tr>\n      <th>min</th>\n      <td>0.000000</td>\n      <td>0.000000</td>\n      <td>0.000000</td>\n      <td>5.108000e+03</td>\n      <td>0.000000</td>\n      <td>0.000000</td>\n      <td>0.000000</td>\n      <td>0.000000</td>\n      <td>0.000000</td>\n      <td>-60.000000</td>\n      <td>0.000000</td>\n      <td>1921.000000</td>\n    </tr>\n    <tr>\n      <th>25%</th>\n      <td>0.102000</td>\n      <td>0.415000</td>\n      <td>0.255000</td>\n      <td>1.698270e+05</td>\n      <td>0.000000</td>\n      <td>0.317000</td>\n      <td>11.000000</td>\n      <td>93.421000</td>\n      <td>0.098800</td>\n      <td>-14.615000</td>\n      <td>0.034900</td>\n      <td>1956.000000</td>\n    </tr>\n    <tr>\n      <th>50%</th>\n      <td>0.516000</td>\n      <td>0.548000</td>\n      <td>0.471000</td>\n      <td>2.074670e+05</td>\n      <td>0.000216</td>\n      <td>0.540000</td>\n      <td>33.000000</td>\n      <td>114.729000</td>\n      <td>0.136000</td>\n      <td>-10.580000</td>\n      <td>0.045000</td>\n      <td>1977.000000</td>\n    </tr>\n    <tr>\n      <th>75%</th>\n      <td>0.893000</td>\n      <td>0.668000</td>\n      <td>0.703000</td>\n      <td>2.624000e+05</td>\n      <td>0.102000</td>\n      <td>0.747000</td>\n      <td>48.000000</td>\n      <td>135.537000</td>\n      <td>0.261000</td>\n      <td>-7.183000</td>\n      <td>0.075600</td>\n      <td>1999.000000</td>\n    </tr>\n    <tr>\n      <th>max</th>\n      <td>0.996000</td>\n      <td>0.988000</td>\n      <td>1.000000</td>\n      <td>5.403500e+06</td>\n      <td>1.000000</td>\n      <td>1.000000</td>\n      <td>100.000000</td>\n      <td>243.507000</td>\n      <td>1.000000</td>\n      <td>3.855000</td>\n      <td>0.970000</td>\n      <td>2020.000000</td>\n    </tr>\n  </tbody>\n</table>\n</div>"
     },
     "metadata": {},
     "execution_count": 7
    }
   ],
   "source": [
    "data[numerical_cols].describe()"
   ]
  },
  {
   "cell_type": "code",
   "execution_count": 8,
   "metadata": {},
   "outputs": [
    {
     "output_type": "execute_result",
     "data": {
      "text/plain": [
       "valence             float64\n",
       "year                  int64\n",
       "acousticness        float64\n",
       "artists              object\n",
       "danceability        float64\n",
       "duration_ms           int64\n",
       "energy              float64\n",
       "explicit              int64\n",
       "id                   object\n",
       "instrumentalness    float64\n",
       "key                   int64\n",
       "liveness            float64\n",
       "loudness            float64\n",
       "mode                  int64\n",
       "name                 object\n",
       "popularity            int64\n",
       "release_date         object\n",
       "speechiness         float64\n",
       "tempo               float64\n",
       "dtype: object"
      ]
     },
     "metadata": {},
     "execution_count": 8
    }
   ],
   "source": [
    "data.dtypes"
   ]
  },
  {
   "source": [
    "\n",
    "## Filtering and processing"
   ],
   "cell_type": "markdown",
   "metadata": {}
  },
  {
   "cell_type": "code",
   "execution_count": 9,
   "metadata": {},
   "outputs": [],
   "source": [
    "def split_date(date_str: str) -> list[int]:\n",
    "    \"\"\"\n",
    "    Expect a date string of the form %Y-%m-%d and parses it into a three element list\n",
    "\n",
    "    Parameters:\n",
    "        date_str: date to be formatted\n",
    "    \n",
    "    Returns:\n",
    "        A list with three numbers that defaults to zero when said part cannot be parsed\n",
    "\n",
    "    \"\"\"\n",
    "    separators = date_str.count('-')\n",
    "    splitted = [int(x) for x in date_str.split('-')]\n",
    "    if (separators == 0):\n",
    "        return [int(date_str), 0, 0]\n",
    "    elif (separators == 1):\n",
    "        return [splitted[0], splitted[1], 0]\n",
    "    elif (separators == 2):\n",
    "        return [splitted[0], splitted[1], splitted[2]]\n",
    "    else:\n",
    "        return[0, 0, 0] "
   ]
  },
  {
   "cell_type": "code",
   "execution_count": 10,
   "metadata": {},
   "outputs": [],
   "source": [
    "date_array = np.asarray(\n",
    "    list(map(split_date, data['release_date'].values))\n",
    ")"
   ]
  },
  {
   "cell_type": "code",
   "execution_count": 11,
   "metadata": {},
   "outputs": [],
   "source": [
    "#data['year'] = date_array[:,0]\n",
    "data['month'] = date_array[:,1]\n",
    "data['day'] = date_array[:,2]"
   ]
  },
  {
   "cell_type": "code",
   "execution_count": 13,
   "metadata": {},
   "outputs": [],
   "source": [
    "cond1 = (data['year'] != 0)\n",
    "cond2 = (data['month'] != 0)\n",
    "cond3 = (data['day'] != 0)\n",
    "\n",
    "data = (\n",
    "    data[cond1 & cond1 & cond3]\n",
    "    .reset_index(drop=True)\n",
    ")"
   ]
  },
  {
   "cell_type": "code",
   "execution_count": 16,
   "metadata": {},
   "outputs": [],
   "source": [
    "data.to_csv('data/data_cleaned.csv', index=False) "
   ]
  },
  {
   "source": [
    "## Plotting"
   ],
   "cell_type": "markdown",
   "metadata": {}
  },
  {
   "cell_type": "code",
   "execution_count": 17,
   "metadata": {},
   "outputs": [],
   "source": [
    "import matplotlib.pyplot as plt\n",
    "import seaborn as sns\n",
    "\n",
    "sns.set()"
   ]
  },
  {
   "cell_type": "code",
   "execution_count": 25,
   "metadata": {},
   "outputs": [
    {
     "output_type": "execute_result",
     "data": {
      "text/plain": [
       "<AxesSubplot:xlabel='year', ylabel='id'>"
      ]
     },
     "metadata": {},
     "execution_count": 25
    },
    {
     "output_type": "display_data",
     "data": {
      "text/plain": "<Figure size 1080x360 with 1 Axes>",
      "image/svg+xml": "<?xml version=\"1.0\" encoding=\"utf-8\" standalone=\"no\"?>\r\n<!DOCTYPE svg PUBLIC \"-//W3C//DTD SVG 1.1//EN\"\r\n  \"http://www.w3.org/Graphics/SVG/1.1/DTD/svg11.dtd\">\r\n<!-- Created with matplotlib (https://matplotlib.org/) -->\r\n<svg height=\"320.734219pt\" version=\"1.1\" viewBox=\"0 0 900.3425 320.734219\" width=\"900.3425pt\" xmlns=\"http://www.w3.org/2000/svg\" xmlns:xlink=\"http://www.w3.org/1999/xlink\">\r\n <metadata>\r\n  <rdf:RDF xmlns:cc=\"http://creativecommons.org/ns#\" xmlns:dc=\"http://purl.org/dc/elements/1.1/\" xmlns:rdf=\"http://www.w3.org/1999/02/22-rdf-syntax-ns#\">\r\n   <cc:Work>\r\n    <dc:type rdf:resource=\"http://purl.org/dc/dcmitype/StillImage\"/>\r\n    <dc:date>2021-01-15T08:30:05.056504</dc:date>\r\n    <dc:format>image/svg+xml</dc:format>\r\n    <dc:creator>\r\n     <cc:Agent>\r\n      <dc:title>Matplotlib v3.3.3, https://matplotlib.org/</dc:title>\r\n     </cc:Agent>\r\n    </dc:creator>\r\n   </cc:Work>\r\n  </rdf:RDF>\r\n </metadata>\r\n <defs>\r\n  <style type=\"text/css\">*{stroke-linecap:butt;stroke-linejoin:round;}</style>\r\n </defs>\r\n <g id=\"figure_1\">\r\n  <g id=\"patch_1\">\r\n   <path d=\"M 0 320.734219 \r\nL 900.3425 320.734219 \r\nL 900.3425 0 \r\nL 0 0 \r\nz\r\n\" style=\"fill:#ffffff;\"/>\r\n  </g>\r\n  <g id=\"axes_1\">\r\n   <g id=\"patch_2\">\r\n    <path d=\"M 56.1425 279 \r\nL 893.1425 279 \r\nL 893.1425 7.2 \r\nL 56.1425 7.2 \r\nz\r\n\" style=\"fill:#eaeaf2;\"/>\r\n   </g>\r\n   <g id=\"matplotlib.axis_1\">\r\n    <g id=\"xtick_1\">\r\n     <g id=\"line2d_1\">\r\n      <path clip-path=\"url(#p5cf8cf89b6)\" d=\"M 86.502004 279 \r\nL 86.502004 7.2 \r\n\" style=\"fill:none;stroke:#ffffff;stroke-linecap:round;\"/>\r\n     </g>\r\n     <g id=\"text_1\">\r\n      <!-- 1920 -->\r\n      <g style=\"fill:#262626;\" transform=\"translate(74.267942 296.373594)scale(0.11 -0.11)\">\r\n       <defs>\r\n        <path d=\"M 37.25 0 \r\nL 28.46875 0 \r\nL 28.46875 56 \r\nQ 25.296875 52.984375 20.140625 49.953125 \r\nQ 14.984375 46.921875 10.890625 45.40625 \r\nL 10.890625 53.90625 \r\nQ 18.265625 57.375 23.78125 62.296875 \r\nQ 29.296875 67.234375 31.59375 71.875 \r\nL 37.25 71.875 \r\nz\r\n\" id=\"ArialMT-49\"/>\r\n        <path d=\"M 5.46875 16.546875 \r\nL 13.921875 17.328125 \r\nQ 14.984375 11.375 18.015625 8.6875 \r\nQ 21.046875 6 25.78125 6 \r\nQ 29.828125 6 32.875 7.859375 \r\nQ 35.9375 9.71875 37.890625 12.8125 \r\nQ 39.84375 15.921875 41.15625 21.1875 \r\nQ 42.484375 26.46875 42.484375 31.9375 \r\nQ 42.484375 32.515625 42.4375 33.6875 \r\nQ 39.796875 29.5 35.234375 26.875 \r\nQ 30.671875 24.265625 25.34375 24.265625 \r\nQ 16.453125 24.265625 10.296875 30.703125 \r\nQ 4.15625 37.15625 4.15625 47.703125 \r\nQ 4.15625 58.59375 10.578125 65.234375 \r\nQ 17 71.875 26.65625 71.875 \r\nQ 33.640625 71.875 39.421875 68.109375 \r\nQ 45.21875 64.359375 48.21875 57.390625 \r\nQ 51.21875 50.4375 51.21875 37.25 \r\nQ 51.21875 23.53125 48.234375 15.40625 \r\nQ 45.265625 7.28125 39.375 3.03125 \r\nQ 33.5 -1.21875 25.59375 -1.21875 \r\nQ 17.1875 -1.21875 11.859375 3.4375 \r\nQ 6.546875 8.109375 5.46875 16.546875 \r\nz\r\nM 41.453125 48.140625 \r\nQ 41.453125 55.71875 37.421875 60.15625 \r\nQ 33.40625 64.59375 27.734375 64.59375 \r\nQ 21.875 64.59375 17.53125 59.8125 \r\nQ 13.1875 55.03125 13.1875 47.40625 \r\nQ 13.1875 40.578125 17.3125 36.296875 \r\nQ 21.4375 32.03125 27.484375 32.03125 \r\nQ 33.59375 32.03125 37.515625 36.296875 \r\nQ 41.453125 40.578125 41.453125 48.140625 \r\nz\r\n\" id=\"ArialMT-57\"/>\r\n        <path d=\"M 50.34375 8.453125 \r\nL 50.34375 0 \r\nL 3.03125 0 \r\nQ 2.9375 3.171875 4.046875 6.109375 \r\nQ 5.859375 10.9375 9.828125 15.625 \r\nQ 13.8125 20.3125 21.34375 26.46875 \r\nQ 33.015625 36.03125 37.109375 41.625 \r\nQ 41.21875 47.21875 41.21875 52.203125 \r\nQ 41.21875 57.421875 37.46875 61 \r\nQ 33.734375 64.59375 27.734375 64.59375 \r\nQ 21.390625 64.59375 17.578125 60.78125 \r\nQ 13.765625 56.984375 13.71875 50.25 \r\nL 4.6875 51.171875 \r\nQ 5.609375 61.28125 11.65625 66.578125 \r\nQ 17.71875 71.875 27.9375 71.875 \r\nQ 38.234375 71.875 44.234375 66.15625 \r\nQ 50.25 60.453125 50.25 52 \r\nQ 50.25 47.703125 48.484375 43.546875 \r\nQ 46.734375 39.40625 42.65625 34.8125 \r\nQ 38.578125 30.21875 29.109375 22.21875 \r\nQ 21.1875 15.578125 18.9375 13.203125 \r\nQ 16.703125 10.84375 15.234375 8.453125 \r\nz\r\n\" id=\"ArialMT-50\"/>\r\n        <path d=\"M 4.15625 35.296875 \r\nQ 4.15625 48 6.765625 55.734375 \r\nQ 9.375 63.484375 14.515625 67.671875 \r\nQ 19.671875 71.875 27.484375 71.875 \r\nQ 33.25 71.875 37.59375 69.546875 \r\nQ 41.9375 67.234375 44.765625 62.859375 \r\nQ 47.609375 58.5 49.21875 52.21875 \r\nQ 50.828125 45.953125 50.828125 35.296875 \r\nQ 50.828125 22.703125 48.234375 14.96875 \r\nQ 45.65625 7.234375 40.5 3 \r\nQ 35.359375 -1.21875 27.484375 -1.21875 \r\nQ 17.140625 -1.21875 11.234375 6.203125 \r\nQ 4.15625 15.140625 4.15625 35.296875 \r\nz\r\nM 13.1875 35.296875 \r\nQ 13.1875 17.671875 17.3125 11.828125 \r\nQ 21.4375 6 27.484375 6 \r\nQ 33.546875 6 37.671875 11.859375 \r\nQ 41.796875 17.71875 41.796875 35.296875 \r\nQ 41.796875 52.984375 37.671875 58.78125 \r\nQ 33.546875 64.59375 27.390625 64.59375 \r\nQ 21.34375 64.59375 17.71875 59.46875 \r\nQ 13.1875 52.9375 13.1875 35.296875 \r\nz\r\n\" id=\"ArialMT-48\"/>\r\n       </defs>\r\n       <use xlink:href=\"#ArialMT-49\"/>\r\n       <use x=\"55.615234\" xlink:href=\"#ArialMT-57\"/>\r\n       <use x=\"111.230469\" xlink:href=\"#ArialMT-50\"/>\r\n       <use x=\"166.845703\" xlink:href=\"#ArialMT-48\"/>\r\n      </g>\r\n     </g>\r\n    </g>\r\n    <g id=\"xtick_2\">\r\n     <g id=\"line2d_2\">\r\n      <path clip-path=\"url(#p5cf8cf89b6)\" d=\"M 240.221012 279 \r\nL 240.221012 7.2 \r\n\" style=\"fill:none;stroke:#ffffff;stroke-linecap:round;\"/>\r\n     </g>\r\n     <g id=\"text_2\">\r\n      <!-- 1940 -->\r\n      <g style=\"fill:#262626;\" transform=\"translate(227.98695 296.373594)scale(0.11 -0.11)\">\r\n       <defs>\r\n        <path d=\"M 32.328125 0 \r\nL 32.328125 17.140625 \r\nL 1.265625 17.140625 \r\nL 1.265625 25.203125 \r\nL 33.9375 71.578125 \r\nL 41.109375 71.578125 \r\nL 41.109375 25.203125 \r\nL 50.78125 25.203125 \r\nL 50.78125 17.140625 \r\nL 41.109375 17.140625 \r\nL 41.109375 0 \r\nz\r\nM 32.328125 25.203125 \r\nL 32.328125 57.46875 \r\nL 9.90625 25.203125 \r\nz\r\n\" id=\"ArialMT-52\"/>\r\n       </defs>\r\n       <use xlink:href=\"#ArialMT-49\"/>\r\n       <use x=\"55.615234\" xlink:href=\"#ArialMT-57\"/>\r\n       <use x=\"111.230469\" xlink:href=\"#ArialMT-52\"/>\r\n       <use x=\"166.845703\" xlink:href=\"#ArialMT-48\"/>\r\n      </g>\r\n     </g>\r\n    </g>\r\n    <g id=\"xtick_3\">\r\n     <g id=\"line2d_3\">\r\n      <path clip-path=\"url(#p5cf8cf89b6)\" d=\"M 393.940021 279 \r\nL 393.940021 7.2 \r\n\" style=\"fill:none;stroke:#ffffff;stroke-linecap:round;\"/>\r\n     </g>\r\n     <g id=\"text_3\">\r\n      <!-- 1960 -->\r\n      <g style=\"fill:#262626;\" transform=\"translate(381.705958 296.373594)scale(0.11 -0.11)\">\r\n       <defs>\r\n        <path d=\"M 49.75 54.046875 \r\nL 41.015625 53.375 \r\nQ 39.84375 58.546875 37.703125 60.890625 \r\nQ 34.125 64.65625 28.90625 64.65625 \r\nQ 24.703125 64.65625 21.53125 62.3125 \r\nQ 17.390625 59.28125 14.984375 53.46875 \r\nQ 12.59375 47.65625 12.5 36.921875 \r\nQ 15.671875 41.75 20.265625 44.09375 \r\nQ 24.859375 46.4375 29.890625 46.4375 \r\nQ 38.671875 46.4375 44.84375 39.96875 \r\nQ 51.03125 33.5 51.03125 23.25 \r\nQ 51.03125 16.5 48.125 10.71875 \r\nQ 45.21875 4.9375 40.140625 1.859375 \r\nQ 35.0625 -1.21875 28.609375 -1.21875 \r\nQ 17.625 -1.21875 10.6875 6.859375 \r\nQ 3.765625 14.9375 3.765625 33.5 \r\nQ 3.765625 54.25 11.421875 63.671875 \r\nQ 18.109375 71.875 29.4375 71.875 \r\nQ 37.890625 71.875 43.28125 67.140625 \r\nQ 48.6875 62.40625 49.75 54.046875 \r\nz\r\nM 13.875 23.1875 \r\nQ 13.875 18.65625 15.796875 14.5 \r\nQ 17.71875 10.359375 21.1875 8.171875 \r\nQ 24.65625 6 28.46875 6 \r\nQ 34.03125 6 38.03125 10.484375 \r\nQ 42.046875 14.984375 42.046875 22.703125 \r\nQ 42.046875 30.125 38.078125 34.390625 \r\nQ 34.125 38.671875 28.125 38.671875 \r\nQ 22.171875 38.671875 18.015625 34.390625 \r\nQ 13.875 30.125 13.875 23.1875 \r\nz\r\n\" id=\"ArialMT-54\"/>\r\n       </defs>\r\n       <use xlink:href=\"#ArialMT-49\"/>\r\n       <use x=\"55.615234\" xlink:href=\"#ArialMT-57\"/>\r\n       <use x=\"111.230469\" xlink:href=\"#ArialMT-54\"/>\r\n       <use x=\"166.845703\" xlink:href=\"#ArialMT-48\"/>\r\n      </g>\r\n     </g>\r\n    </g>\r\n    <g id=\"xtick_4\">\r\n     <g id=\"line2d_4\">\r\n      <path clip-path=\"url(#p5cf8cf89b6)\" d=\"M 547.659029 279 \r\nL 547.659029 7.2 \r\n\" style=\"fill:none;stroke:#ffffff;stroke-linecap:round;\"/>\r\n     </g>\r\n     <g id=\"text_4\">\r\n      <!-- 1980 -->\r\n      <g style=\"fill:#262626;\" transform=\"translate(535.424966 296.373594)scale(0.11 -0.11)\">\r\n       <defs>\r\n        <path d=\"M 17.671875 38.8125 \r\nQ 12.203125 40.828125 9.5625 44.53125 \r\nQ 6.9375 48.25 6.9375 53.421875 \r\nQ 6.9375 61.234375 12.546875 66.546875 \r\nQ 18.171875 71.875 27.484375 71.875 \r\nQ 36.859375 71.875 42.578125 66.421875 \r\nQ 48.296875 60.984375 48.296875 53.171875 \r\nQ 48.296875 48.1875 45.671875 44.5 \r\nQ 43.0625 40.828125 37.75 38.8125 \r\nQ 44.34375 36.671875 47.78125 31.875 \r\nQ 51.21875 27.09375 51.21875 20.453125 \r\nQ 51.21875 11.28125 44.71875 5.03125 \r\nQ 38.234375 -1.21875 27.640625 -1.21875 \r\nQ 17.046875 -1.21875 10.546875 5.046875 \r\nQ 4.046875 11.328125 4.046875 20.703125 \r\nQ 4.046875 27.6875 7.59375 32.390625 \r\nQ 11.140625 37.109375 17.671875 38.8125 \r\nz\r\nM 15.921875 53.71875 \r\nQ 15.921875 48.640625 19.1875 45.40625 \r\nQ 22.46875 42.1875 27.6875 42.1875 \r\nQ 32.765625 42.1875 36.015625 45.375 \r\nQ 39.265625 48.578125 39.265625 53.21875 \r\nQ 39.265625 58.0625 35.90625 61.359375 \r\nQ 32.5625 64.65625 27.59375 64.65625 \r\nQ 22.5625 64.65625 19.234375 61.421875 \r\nQ 15.921875 58.203125 15.921875 53.71875 \r\nz\r\nM 13.09375 20.65625 \r\nQ 13.09375 16.890625 14.875 13.375 \r\nQ 16.65625 9.859375 20.171875 7.921875 \r\nQ 23.6875 6 27.734375 6 \r\nQ 34.03125 6 38.125 10.046875 \r\nQ 42.234375 14.109375 42.234375 20.359375 \r\nQ 42.234375 26.703125 38.015625 30.859375 \r\nQ 33.796875 35.015625 27.4375 35.015625 \r\nQ 21.234375 35.015625 17.15625 30.90625 \r\nQ 13.09375 26.8125 13.09375 20.65625 \r\nz\r\n\" id=\"ArialMT-56\"/>\r\n       </defs>\r\n       <use xlink:href=\"#ArialMT-49\"/>\r\n       <use x=\"55.615234\" xlink:href=\"#ArialMT-57\"/>\r\n       <use x=\"111.230469\" xlink:href=\"#ArialMT-56\"/>\r\n       <use x=\"166.845703\" xlink:href=\"#ArialMT-48\"/>\r\n      </g>\r\n     </g>\r\n    </g>\r\n    <g id=\"xtick_5\">\r\n     <g id=\"line2d_5\">\r\n      <path clip-path=\"url(#p5cf8cf89b6)\" d=\"M 701.378037 279 \r\nL 701.378037 7.2 \r\n\" style=\"fill:none;stroke:#ffffff;stroke-linecap:round;\"/>\r\n     </g>\r\n     <g id=\"text_5\">\r\n      <!-- 2000 -->\r\n      <g style=\"fill:#262626;\" transform=\"translate(689.143975 296.373594)scale(0.11 -0.11)\">\r\n       <use xlink:href=\"#ArialMT-50\"/>\r\n       <use x=\"55.615234\" xlink:href=\"#ArialMT-48\"/>\r\n       <use x=\"111.230469\" xlink:href=\"#ArialMT-48\"/>\r\n       <use x=\"166.845703\" xlink:href=\"#ArialMT-48\"/>\r\n      </g>\r\n     </g>\r\n    </g>\r\n    <g id=\"xtick_6\">\r\n     <g id=\"line2d_6\">\r\n      <path clip-path=\"url(#p5cf8cf89b6)\" d=\"M 855.097045 279 \r\nL 855.097045 7.2 \r\n\" style=\"fill:none;stroke:#ffffff;stroke-linecap:round;\"/>\r\n     </g>\r\n     <g id=\"text_6\">\r\n      <!-- 2020 -->\r\n      <g style=\"fill:#262626;\" transform=\"translate(842.862983 296.373594)scale(0.11 -0.11)\">\r\n       <use xlink:href=\"#ArialMT-50\"/>\r\n       <use x=\"55.615234\" xlink:href=\"#ArialMT-48\"/>\r\n       <use x=\"111.230469\" xlink:href=\"#ArialMT-50\"/>\r\n       <use x=\"166.845703\" xlink:href=\"#ArialMT-48\"/>\r\n      </g>\r\n     </g>\r\n    </g>\r\n    <g id=\"text_7\">\r\n     <!-- year -->\r\n     <g style=\"fill:#262626;\" transform=\"translate(462.971563 311.008594)scale(0.12 -0.12)\">\r\n      <defs>\r\n       <path d=\"M 6.203125 -19.96875 \r\nL 5.21875 -11.71875 \r\nQ 8.109375 -12.5 10.25 -12.5 \r\nQ 13.1875 -12.5 14.9375 -11.515625 \r\nQ 16.703125 -10.546875 17.828125 -8.796875 \r\nQ 18.65625 -7.46875 20.515625 -2.25 \r\nQ 20.75 -1.515625 21.296875 -0.09375 \r\nL 1.609375 51.859375 \r\nL 11.078125 51.859375 \r\nL 21.875 21.828125 \r\nQ 23.96875 16.109375 25.640625 9.8125 \r\nQ 27.15625 15.875 29.25 21.625 \r\nL 40.328125 51.859375 \r\nL 49.125 51.859375 \r\nL 29.390625 -0.875 \r\nQ 26.21875 -9.421875 24.46875 -12.640625 \r\nQ 22.125 -17 19.09375 -19.015625 \r\nQ 16.0625 -21.046875 11.859375 -21.046875 \r\nQ 9.328125 -21.046875 6.203125 -19.96875 \r\nz\r\n\" id=\"ArialMT-121\"/>\r\n       <path d=\"M 42.09375 16.703125 \r\nL 51.171875 15.578125 \r\nQ 49.03125 7.625 43.21875 3.21875 \r\nQ 37.40625 -1.171875 28.375 -1.171875 \r\nQ 17 -1.171875 10.328125 5.828125 \r\nQ 3.65625 12.84375 3.65625 25.484375 \r\nQ 3.65625 38.578125 10.390625 45.796875 \r\nQ 17.140625 53.03125 27.875 53.03125 \r\nQ 38.28125 53.03125 44.875 45.953125 \r\nQ 51.46875 38.875 51.46875 26.03125 \r\nQ 51.46875 25.25 51.421875 23.6875 \r\nL 12.75 23.6875 \r\nQ 13.234375 15.140625 17.578125 10.59375 \r\nQ 21.921875 6.0625 28.421875 6.0625 \r\nQ 33.25 6.0625 36.671875 8.59375 \r\nQ 40.09375 11.140625 42.09375 16.703125 \r\nz\r\nM 13.234375 30.90625 \r\nL 42.1875 30.90625 \r\nQ 41.609375 37.453125 38.875 40.71875 \r\nQ 34.671875 45.796875 27.984375 45.796875 \r\nQ 21.921875 45.796875 17.796875 41.75 \r\nQ 13.671875 37.703125 13.234375 30.90625 \r\nz\r\n\" id=\"ArialMT-101\"/>\r\n       <path d=\"M 40.4375 6.390625 \r\nQ 35.546875 2.25 31.03125 0.53125 \r\nQ 26.515625 -1.171875 21.34375 -1.171875 \r\nQ 12.796875 -1.171875 8.203125 3 \r\nQ 3.609375 7.171875 3.609375 13.671875 \r\nQ 3.609375 17.484375 5.34375 20.625 \r\nQ 7.078125 23.78125 9.890625 25.6875 \r\nQ 12.703125 27.59375 16.21875 28.5625 \r\nQ 18.796875 29.25 24.03125 29.890625 \r\nQ 34.671875 31.15625 39.703125 32.90625 \r\nQ 39.75 34.71875 39.75 35.203125 \r\nQ 39.75 40.578125 37.25 42.78125 \r\nQ 33.890625 45.75 27.25 45.75 \r\nQ 21.046875 45.75 18.09375 43.578125 \r\nQ 15.140625 41.40625 13.71875 35.890625 \r\nL 5.125 37.0625 \r\nQ 6.296875 42.578125 8.984375 45.96875 \r\nQ 11.671875 49.359375 16.75 51.1875 \r\nQ 21.828125 53.03125 28.515625 53.03125 \r\nQ 35.15625 53.03125 39.296875 51.46875 \r\nQ 43.453125 49.90625 45.40625 47.53125 \r\nQ 47.359375 45.171875 48.140625 41.546875 \r\nQ 48.578125 39.3125 48.578125 33.453125 \r\nL 48.578125 21.734375 \r\nQ 48.578125 9.46875 49.140625 6.21875 \r\nQ 49.703125 2.984375 51.375 0 \r\nL 42.1875 0 \r\nQ 40.828125 2.734375 40.4375 6.390625 \r\nz\r\nM 39.703125 26.03125 \r\nQ 34.90625 24.078125 25.34375 22.703125 \r\nQ 19.921875 21.921875 17.671875 20.9375 \r\nQ 15.4375 19.96875 14.203125 18.09375 \r\nQ 12.984375 16.21875 12.984375 13.921875 \r\nQ 12.984375 10.40625 15.640625 8.0625 \r\nQ 18.3125 5.71875 23.4375 5.71875 \r\nQ 28.515625 5.71875 32.46875 7.9375 \r\nQ 36.421875 10.15625 38.28125 14.015625 \r\nQ 39.703125 17 39.703125 22.796875 \r\nz\r\n\" id=\"ArialMT-97\"/>\r\n       <path d=\"M 6.5 0 \r\nL 6.5 51.859375 \r\nL 14.40625 51.859375 \r\nL 14.40625 44 \r\nQ 17.4375 49.515625 20 51.265625 \r\nQ 22.5625 53.03125 25.640625 53.03125 \r\nQ 30.078125 53.03125 34.671875 50.203125 \r\nL 31.640625 42.046875 \r\nQ 28.421875 43.953125 25.203125 43.953125 \r\nQ 22.3125 43.953125 20.015625 42.21875 \r\nQ 17.71875 40.484375 16.75 37.40625 \r\nQ 15.28125 32.71875 15.28125 27.15625 \r\nL 15.28125 0 \r\nz\r\n\" id=\"ArialMT-114\"/>\r\n      </defs>\r\n      <use xlink:href=\"#ArialMT-121\"/>\r\n      <use x=\"50\" xlink:href=\"#ArialMT-101\"/>\r\n      <use x=\"105.615234\" xlink:href=\"#ArialMT-97\"/>\r\n      <use x=\"161.230469\" xlink:href=\"#ArialMT-114\"/>\r\n     </g>\r\n    </g>\r\n   </g>\r\n   <g id=\"matplotlib.axis_2\">\r\n    <g id=\"ytick_1\">\r\n     <g id=\"line2d_7\">\r\n      <path clip-path=\"url(#p5cf8cf89b6)\" d=\"M 56.1425 270.705914 \r\nL 893.1425 270.705914 \r\n\" style=\"fill:none;stroke:#ffffff;stroke-linecap:round;\"/>\r\n     </g>\r\n     <g id=\"text_8\">\r\n      <!-- 0 -->\r\n      <g style=\"fill:#262626;\" transform=\"translate(40.525469 274.642711)scale(0.11 -0.11)\">\r\n       <use xlink:href=\"#ArialMT-48\"/>\r\n      </g>\r\n     </g>\r\n    </g>\r\n    <g id=\"ytick_2\">\r\n     <g id=\"line2d_8\">\r\n      <path clip-path=\"url(#p5cf8cf89b6)\" d=\"M 56.1425 210.993273 \r\nL 893.1425 210.993273 \r\n\" style=\"fill:none;stroke:#ffffff;stroke-linecap:round;\"/>\r\n     </g>\r\n     <g id=\"text_9\">\r\n      <!-- 500 -->\r\n      <g style=\"fill:#262626;\" transform=\"translate(28.291406 214.93007)scale(0.11 -0.11)\">\r\n       <defs>\r\n        <path d=\"M 4.15625 18.75 \r\nL 13.375 19.53125 \r\nQ 14.40625 12.796875 18.140625 9.390625 \r\nQ 21.875 6 27.15625 6 \r\nQ 33.5 6 37.890625 10.78125 \r\nQ 42.28125 15.578125 42.28125 23.484375 \r\nQ 42.28125 31 38.0625 35.34375 \r\nQ 33.84375 39.703125 27 39.703125 \r\nQ 22.75 39.703125 19.328125 37.765625 \r\nQ 15.921875 35.84375 13.96875 32.765625 \r\nL 5.71875 33.84375 \r\nL 12.640625 70.609375 \r\nL 48.25 70.609375 \r\nL 48.25 62.203125 \r\nL 19.671875 62.203125 \r\nL 15.828125 42.96875 \r\nQ 22.265625 47.46875 29.34375 47.46875 \r\nQ 38.71875 47.46875 45.15625 40.96875 \r\nQ 51.609375 34.46875 51.609375 24.265625 \r\nQ 51.609375 14.546875 45.953125 7.46875 \r\nQ 39.0625 -1.21875 27.15625 -1.21875 \r\nQ 17.390625 -1.21875 11.203125 4.25 \r\nQ 5.03125 9.71875 4.15625 18.75 \r\nz\r\n\" id=\"ArialMT-53\"/>\r\n       </defs>\r\n       <use xlink:href=\"#ArialMT-53\"/>\r\n       <use x=\"55.615234\" xlink:href=\"#ArialMT-48\"/>\r\n       <use x=\"111.230469\" xlink:href=\"#ArialMT-48\"/>\r\n      </g>\r\n     </g>\r\n    </g>\r\n    <g id=\"ytick_3\">\r\n     <g id=\"line2d_9\">\r\n      <path clip-path=\"url(#p5cf8cf89b6)\" d=\"M 56.1425 151.280632 \r\nL 893.1425 151.280632 \r\n\" style=\"fill:none;stroke:#ffffff;stroke-linecap:round;\"/>\r\n     </g>\r\n     <g id=\"text_10\">\r\n      <!-- 1000 -->\r\n      <g style=\"fill:#262626;\" transform=\"translate(22.174375 155.217429)scale(0.11 -0.11)\">\r\n       <use xlink:href=\"#ArialMT-49\"/>\r\n       <use x=\"55.615234\" xlink:href=\"#ArialMT-48\"/>\r\n       <use x=\"111.230469\" xlink:href=\"#ArialMT-48\"/>\r\n       <use x=\"166.845703\" xlink:href=\"#ArialMT-48\"/>\r\n      </g>\r\n     </g>\r\n    </g>\r\n    <g id=\"ytick_4\">\r\n     <g id=\"line2d_10\">\r\n      <path clip-path=\"url(#p5cf8cf89b6)\" d=\"M 56.1425 91.567991 \r\nL 893.1425 91.567991 \r\n\" style=\"fill:none;stroke:#ffffff;stroke-linecap:round;\"/>\r\n     </g>\r\n     <g id=\"text_11\">\r\n      <!-- 1500 -->\r\n      <g style=\"fill:#262626;\" transform=\"translate(22.174375 95.504788)scale(0.11 -0.11)\">\r\n       <use xlink:href=\"#ArialMT-49\"/>\r\n       <use x=\"55.615234\" xlink:href=\"#ArialMT-53\"/>\r\n       <use x=\"111.230469\" xlink:href=\"#ArialMT-48\"/>\r\n       <use x=\"166.845703\" xlink:href=\"#ArialMT-48\"/>\r\n      </g>\r\n     </g>\r\n    </g>\r\n    <g id=\"ytick_5\">\r\n     <g id=\"line2d_11\">\r\n      <path clip-path=\"url(#p5cf8cf89b6)\" d=\"M 56.1425 31.85535 \r\nL 893.1425 31.85535 \r\n\" style=\"fill:none;stroke:#ffffff;stroke-linecap:round;\"/>\r\n     </g>\r\n     <g id=\"text_12\">\r\n      <!-- 2000 -->\r\n      <g style=\"fill:#262626;\" transform=\"translate(22.174375 35.792146)scale(0.11 -0.11)\">\r\n       <use xlink:href=\"#ArialMT-50\"/>\r\n       <use x=\"55.615234\" xlink:href=\"#ArialMT-48\"/>\r\n       <use x=\"111.230469\" xlink:href=\"#ArialMT-48\"/>\r\n       <use x=\"166.845703\" xlink:href=\"#ArialMT-48\"/>\r\n      </g>\r\n     </g>\r\n    </g>\r\n    <g id=\"text_13\">\r\n     <!-- id -->\r\n     <g style=\"fill:#262626;\" transform=\"translate(15.789375 147.769687)rotate(-90)scale(0.12 -0.12)\">\r\n      <defs>\r\n       <path d=\"M 6.640625 61.46875 \r\nL 6.640625 71.578125 \r\nL 15.4375 71.578125 \r\nL 15.4375 61.46875 \r\nz\r\nM 6.640625 0 \r\nL 6.640625 51.859375 \r\nL 15.4375 51.859375 \r\nL 15.4375 0 \r\nz\r\n\" id=\"ArialMT-105\"/>\r\n       <path d=\"M 40.234375 0 \r\nL 40.234375 6.546875 \r\nQ 35.296875 -1.171875 25.734375 -1.171875 \r\nQ 19.53125 -1.171875 14.328125 2.25 \r\nQ 9.125 5.671875 6.265625 11.796875 \r\nQ 3.421875 17.921875 3.421875 25.875 \r\nQ 3.421875 33.640625 6 39.96875 \r\nQ 8.59375 46.296875 13.765625 49.65625 \r\nQ 18.953125 53.03125 25.34375 53.03125 \r\nQ 30.03125 53.03125 33.6875 51.046875 \r\nQ 37.359375 49.078125 39.65625 45.90625 \r\nL 39.65625 71.578125 \r\nL 48.390625 71.578125 \r\nL 48.390625 0 \r\nz\r\nM 12.453125 25.875 \r\nQ 12.453125 15.921875 16.640625 10.984375 \r\nQ 20.84375 6.0625 26.5625 6.0625 \r\nQ 32.328125 6.0625 36.34375 10.765625 \r\nQ 40.375 15.484375 40.375 25.140625 \r\nQ 40.375 35.796875 36.265625 40.765625 \r\nQ 32.171875 45.75 26.171875 45.75 \r\nQ 20.3125 45.75 16.375 40.96875 \r\nQ 12.453125 36.1875 12.453125 25.875 \r\nz\r\n\" id=\"ArialMT-100\"/>\r\n      </defs>\r\n      <use xlink:href=\"#ArialMT-105\"/>\r\n      <use x=\"22.216797\" xlink:href=\"#ArialMT-100\"/>\r\n     </g>\r\n    </g>\r\n   </g>\r\n   <g id=\"line2d_12\">\r\n    <path clip-path=\"url(#p5cf8cf89b6)\" d=\"M 94.187955 266.645455 \r\nL 101.873905 265.331776 \r\nL 109.559855 265.451202 \r\nL 117.245806 255.300053 \r\nL 124.931756 259.002236 \r\nL 132.617707 237.38626 \r\nL 140.303657 223.055227 \r\nL 147.989607 217.203388 \r\nL 155.675558 224.966031 \r\nL 163.361508 99.330634 \r\nL 171.047459 227.473962 \r\nL 178.733409 239.297065 \r\nL 186.41936 244.074076 \r\nL 194.10531 233.803502 \r\nL 201.79126 218.15879 \r\nL 209.477211 228.548789 \r\nL 217.163161 234.042352 \r\nL 224.849112 238.580513 \r\nL 232.535062 191.646377 \r\nL 240.221012 111.153737 \r\nL 247.906963 225.204882 \r\nL 255.592913 135.63592 \r\nL 263.278864 218.15879 \r\nL 270.964814 209.440744 \r\nL 278.650764 204.544308 \r\nL 286.336715 184.361435 \r\nL 294.022665 176.837642 \r\nL 301.708616 178.390171 \r\nL 309.394566 180.778677 \r\nL 317.080517 134.083391 \r\nL 324.766467 145.189942 \r\nL 332.452417 122.618564 \r\nL 340.138368 137.785575 \r\nL 347.824318 129.54523 \r\nL 355.510269 112.34799 \r\nL 363.196219 148.175574 \r\nL 370.882169 149.489253 \r\nL 378.56812 131.814311 \r\nL 386.25407 136.949598 \r\nL 393.940021 151.400057 \r\nL 401.625971 148.53385 \r\nL 409.311921 148.53385 \r\nL 416.997872 124.529369 \r\nL 424.683822 138.740977 \r\nL 432.369773 120.230058 \r\nL 440.055723 117.722128 \r\nL 447.741674 120.110633 \r\nL 455.427624 114.497645 \r\nL 463.113574 103.391094 \r\nL 470.799525 106.973852 \r\nL 478.485475 121.304886 \r\nL 486.171426 133.60569 \r\nL 493.857376 102.196841 \r\nL 501.543326 119.632932 \r\nL 509.229277 113.661668 \r\nL 516.915227 128.589828 \r\nL 524.601178 116.408449 \r\nL 532.287128 118.558104 \r\nL 539.973079 113.422817 \r\nL 547.659029 119.752357 \r\nL 555.344979 129.664656 \r\nL 563.03093 113.781093 \r\nL 570.71688 110.914886 \r\nL 578.402831 101.122013 \r\nL 586.088781 106.01845 \r\nL 593.774731 100.644312 \r\nL 601.460682 98.016956 \r\nL 609.146632 96.942128 \r\nL 616.832583 98.016956 \r\nL 624.518533 93.239945 \r\nL 632.204483 84.283048 \r\nL 639.890434 74.012474 \r\nL 647.576384 80.342014 \r\nL 655.262335 74.967876 \r\nL 662.948285 83.327646 \r\nL 670.634236 73.057072 \r\nL 678.320186 71.862819 \r\nL 686.006136 68.399486 \r\nL 693.692087 74.131899 \r\nL 701.378037 74.37075 \r\nL 709.063988 71.026842 \r\nL 716.749938 67.444084 \r\nL 724.435888 71.265693 \r\nL 732.121839 65.533279 \r\nL 739.807789 68.757762 \r\nL 747.49374 63.98075 \r\nL 755.17969 57.531785 \r\nL 762.86564 58.128912 \r\nL 770.551591 57.292935 \r\nL 778.237541 47.858337 \r\nL 785.923492 45.708682 \r\nL 793.609442 54.785004 \r\nL 801.295393 45.589257 \r\nL 808.981343 36.39351 \r\nL 816.667293 36.990637 \r\nL 824.353244 57.054084 \r\nL 832.039194 34.12443 \r\nL 839.725145 19.554545 \r\nL 847.411095 37.946039 \r\nL 855.097045 28.272591 \r\n\" style=\"fill:none;stroke:#4c72b0;stroke-linecap:round;stroke-width:1.5;\"/>\r\n   </g>\r\n   <g id=\"patch_3\">\r\n    <path d=\"M 56.1425 279 \r\nL 56.1425 7.2 \r\n\" style=\"fill:none;stroke:#ffffff;stroke-linecap:square;stroke-linejoin:miter;stroke-width:1.25;\"/>\r\n   </g>\r\n   <g id=\"patch_4\">\r\n    <path d=\"M 893.1425 279 \r\nL 893.1425 7.2 \r\n\" style=\"fill:none;stroke:#ffffff;stroke-linecap:square;stroke-linejoin:miter;stroke-width:1.25;\"/>\r\n   </g>\r\n   <g id=\"patch_5\">\r\n    <path d=\"M 56.1425 279 \r\nL 893.1425 279 \r\n\" style=\"fill:none;stroke:#ffffff;stroke-linecap:square;stroke-linejoin:miter;stroke-width:1.25;\"/>\r\n   </g>\r\n   <g id=\"patch_6\">\r\n    <path d=\"M 56.1425 7.2 \r\nL 893.1425 7.2 \r\n\" style=\"fill:none;stroke:#ffffff;stroke-linecap:square;stroke-linejoin:miter;stroke-width:1.25;\"/>\r\n   </g>\r\n  </g>\r\n </g>\r\n <defs>\r\n  <clipPath id=\"p5cf8cf89b6\">\r\n   <rect height=\"271.8\" width=\"837\" x=\"56.1425\" y=\"7.2\"/>\r\n  </clipPath>\r\n </defs>\r\n</svg>\r\n",
      "image/png": "[encoded data removed]"
     },
     "metadata": {}
    }
   ],
   "source": [
    "# Stores the yearly number of released songs\n",
    "temp = (\n",
    "    data[['year','id']].copy()\n",
    "    .groupby('year', as_index=False)\n",
    "    .agg({'id': 'count'})\n",
    "    )\n",
    "\n",
    "# Number of songs released per year in datase\n",
    "fig, axes = plt.subplots(figsize=(15,5))\n",
    "sns.lineplot(data=temp, x='year', y='id', ax=axes)\n"
   ]
  },
  {
   "cell_type": "code",
   "execution_count": 26,
   "metadata": {},
   "outputs": [
    {
     "output_type": "execute_result",
     "data": {
      "text/plain": [
       "Index(['valence', 'year', 'acousticness', 'artists', 'danceability',\n",
       "       'duration_ms', 'energy', 'explicit', 'id', 'instrumentalness', 'key',\n",
       "       'liveness', 'loudness', 'mode', 'name', 'popularity', 'release_date',\n",
       "       'speechiness', 'tempo', 'month', 'day'],\n",
       "      dtype='object')"
      ]
     },
     "metadata": {},
     "execution_count": 26
    }
   ],
   "source": [
    "data.columns"
   ]
  },
  {
   "cell_type": "code",
   "execution_count": 31,
   "metadata": {},
   "outputs": [],
   "source": [
    "# Stores the yearly average for each of the variables defined as predictors\n",
    "temp = (\n",
    "    data[['year']+predictors].copy()\n",
    "    .groupby('year', as_index=False)\n",
    "    .agg({ predictors[i]: 'mean' for i in range(len(predictors)) })\n",
    ")"
   ]
  },
  {
   "cell_type": "code",
   "execution_count": 32,
   "metadata": {},
   "outputs": [
    {
     "output_type": "execute_result",
     "data": {
      "text/plain": [
       "    year  acousticness  danceability    energy  instrumentalness   valence  \\\n",
       "0   1921      0.824365      0.451941  0.241168          0.515393  0.477226   \n",
       "1   1922      0.925533      0.451978  0.205286          0.675013  0.486089   \n",
       "2   1923      0.948197      0.460682  0.285766          0.860352  0.611273   \n",
       "3   1924      0.991581      0.508163  0.321329          0.855832  0.643333   \n",
       "4   1925      0.969191      0.491000  0.215073          0.686180  0.517073   \n",
       "..   ...           ...           ...       ...               ...       ...   \n",
       "95  2016      0.283563      0.600273  0.593311          0.093980  0.431095   \n",
       "96  2017      0.286422      0.612675  0.590027          0.097611  0.417147   \n",
       "97  2018      0.267633      0.663500  0.602435          0.054217  0.447921   \n",
       "98  2019      0.278299      0.644814  0.593224          0.077640  0.458818   \n",
       "99  2020      0.219931      0.692904  0.631232          0.016376  0.501048   \n",
       "\n",
       "         tempo  liveness   loudness  speechiness  \n",
       "0    96.636882  0.198921 -19.246706     0.088124  \n",
       "1    98.299867  0.246464 -22.179400     0.106171  \n",
       "2   113.543727  0.233643 -18.014614     0.088436  \n",
       "3   123.116566  0.241659 -15.678101     0.097247  \n",
       "4   106.780633  0.244949 -18.026327     0.123984  \n",
       "..         ...       ...        ...          ...  \n",
       "95  118.643252  0.181317  -8.054960     0.104176  \n",
       "96  117.114892  0.191827  -8.325739     0.110631  \n",
       "97  121.922308  0.176326  -7.168785     0.127176  \n",
       "98  120.235644  0.172616  -7.722192     0.121043  \n",
       "99  124.283129  0.178535  -6.595067     0.141384  \n",
       "\n",
       "[100 rows x 10 columns]"
      ],
      "text/html": "<div>\n<style scoped>\n    .dataframe tbody tr th:only-of-type {\n        vertical-align: middle;\n    }\n\n    .dataframe tbody tr th {\n        vertical-align: top;\n    }\n\n    .dataframe thead th {\n        text-align: right;\n    }\n</style>\n<table border=\"1\" class=\"dataframe\">\n  <thead>\n    <tr style=\"text-align: right;\">\n      <th></th>\n      <th>year</th>\n      <th>acousticness</th>\n      <th>danceability</th>\n      <th>energy</th>\n      <th>instrumentalness</th>\n      <th>valence</th>\n      <th>tempo</th>\n      <th>liveness</th>\n      <th>loudness</th>\n      <th>speechiness</th>\n    </tr>\n  </thead>\n  <tbody>\n    <tr>\n      <th>0</th>\n      <td>1921</td>\n      <td>0.824365</td>\n      <td>0.451941</td>\n      <td>0.241168</td>\n      <td>0.515393</td>\n      <td>0.477226</td>\n      <td>96.636882</td>\n      <td>0.198921</td>\n      <td>-19.246706</td>\n      <td>0.088124</td>\n    </tr>\n    <tr>\n      <th>1</th>\n      <td>1922</td>\n      <td>0.925533</td>\n      <td>0.451978</td>\n      <td>0.205286</td>\n      <td>0.675013</td>\n      <td>0.486089</td>\n      <td>98.299867</td>\n      <td>0.246464</td>\n      <td>-22.179400</td>\n      <td>0.106171</td>\n    </tr>\n    <tr>\n      <th>2</th>\n      <td>1923</td>\n      <td>0.948197</td>\n      <td>0.460682</td>\n      <td>0.285766</td>\n      <td>0.860352</td>\n      <td>0.611273</td>\n      <td>113.543727</td>\n      <td>0.233643</td>\n      <td>-18.014614</td>\n      <td>0.088436</td>\n    </tr>\n    <tr>\n      <th>3</th>\n      <td>1924</td>\n      <td>0.991581</td>\n      <td>0.508163</td>\n      <td>0.321329</td>\n      <td>0.855832</td>\n      <td>0.643333</td>\n      <td>123.116566</td>\n      <td>0.241659</td>\n      <td>-15.678101</td>\n      <td>0.097247</td>\n    </tr>\n    <tr>\n      <th>4</th>\n      <td>1925</td>\n      <td>0.969191</td>\n      <td>0.491000</td>\n      <td>0.215073</td>\n      <td>0.686180</td>\n      <td>0.517073</td>\n      <td>106.780633</td>\n      <td>0.244949</td>\n      <td>-18.026327</td>\n      <td>0.123984</td>\n    </tr>\n    <tr>\n      <th>...</th>\n      <td>...</td>\n      <td>...</td>\n      <td>...</td>\n      <td>...</td>\n      <td>...</td>\n      <td>...</td>\n      <td>...</td>\n      <td>...</td>\n      <td>...</td>\n      <td>...</td>\n    </tr>\n    <tr>\n      <th>95</th>\n      <td>2016</td>\n      <td>0.283563</td>\n      <td>0.600273</td>\n      <td>0.593311</td>\n      <td>0.093980</td>\n      <td>0.431095</td>\n      <td>118.643252</td>\n      <td>0.181317</td>\n      <td>-8.054960</td>\n      <td>0.104176</td>\n    </tr>\n    <tr>\n      <th>96</th>\n      <td>2017</td>\n      <td>0.286422</td>\n      <td>0.612675</td>\n      <td>0.590027</td>\n      <td>0.097611</td>\n      <td>0.417147</td>\n      <td>117.114892</td>\n      <td>0.191827</td>\n      <td>-8.325739</td>\n      <td>0.110631</td>\n    </tr>\n    <tr>\n      <th>97</th>\n      <td>2018</td>\n      <td>0.267633</td>\n      <td>0.663500</td>\n      <td>0.602435</td>\n      <td>0.054217</td>\n      <td>0.447921</td>\n      <td>121.922308</td>\n      <td>0.176326</td>\n      <td>-7.168785</td>\n      <td>0.127176</td>\n    </tr>\n    <tr>\n      <th>98</th>\n      <td>2019</td>\n      <td>0.278299</td>\n      <td>0.644814</td>\n      <td>0.593224</td>\n      <td>0.077640</td>\n      <td>0.458818</td>\n      <td>120.235644</td>\n      <td>0.172616</td>\n      <td>-7.722192</td>\n      <td>0.121043</td>\n    </tr>\n    <tr>\n      <th>99</th>\n      <td>2020</td>\n      <td>0.219931</td>\n      <td>0.692904</td>\n      <td>0.631232</td>\n      <td>0.016376</td>\n      <td>0.501048</td>\n      <td>124.283129</td>\n      <td>0.178535</td>\n      <td>-6.595067</td>\n      <td>0.141384</td>\n    </tr>\n  </tbody>\n</table>\n<p>100 rows × 10 columns</p>\n</div>"
     },
     "metadata": {},
     "execution_count": 32
    }
   ],
   "source": [
    "fig, axes = plt.subplots(5, 2, figsize=())"
   ]
  },
  {
   "cell_type": "code",
   "execution_count": null,
   "metadata": {},
   "outputs": [],
   "source": []
  }
 ]
}